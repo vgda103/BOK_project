{
 "cells": [
  {
   "cell_type": "markdown",
   "metadata": {},
   "source": [
    "# eKoNLpy 설치\n",
    "1. https://github.com/entelecheia/eKoNLPy 에 접속하여 zip으로 다운로드\n",
    "2. C 드라이브에 압축 풀기\n",
    "3. anaconda prompt에서 가상환경 활성화하고, <span style='color:#ffd33d'>cd C:\\eKoNLPy-master</span>\n",
    "4. <span style='color:#ffd33d'>pip install .</span>\n",
    "5. 아래 코드 실행하여 ekonlpy 설치 확인"
   ]
  },
  {
   "cell_type": "code",
   "execution_count": 1,
   "metadata": {},
   "outputs": [
    {
     "data": {
      "text/plain": [
       "[('양', 'MM'),\n",
       " ('호한', 'NNG'),\n",
       " ('이머징', 'NNG'),\n",
       " ('경기', 'NNG'),\n",
       " ('흐름', 'NNG'),\n",
       " ('을', 'JKO'),\n",
       " ('바탕', 'NNG'),\n",
       " ('으로', 'JKB'),\n",
       " ('유가', 'NNG'),\n",
       " ('등', 'NNB'),\n",
       " ('원자재', 'NNG'),\n",
       " ('가격', 'NNG'),\n",
       " ('이', 'JKS'),\n",
       " ('크', 'VA'),\n",
       " ('폭', 'NNG'),\n",
       " ('으로', 'JKB'),\n",
       " ('상승', 'NNG'),\n",
       " ('하', 'VV'),\n",
       " ('다', 'EF'),\n",
       " ('.', 'SF')]"
      ]
     },
     "execution_count": 1,
     "metadata": {},
     "output_type": "execute_result"
    }
   ],
   "source": [
    "from ekonlpy.tag import Mecab\n",
    "mecab = Mecab()\n",
    "tokens = mecab.pos('양호한 이머징 경기흐름을 바탕으로 유가 등 원자재 가격이 큰 폭으로 상승했다.')\n",
    "mecab.sent_words(tokens)\n",
    "mecab.replace_synonyms(tokens)\n",
    "mecab.lemmatize(tokens)"
   ]
  }
 ],
 "metadata": {
  "kernelspec": {
   "display_name": "mecab",
   "language": "python",
   "name": "python3"
  },
  "language_info": {
   "codemirror_mode": {
    "name": "ipython",
    "version": 3
   },
   "file_extension": ".py",
   "mimetype": "text/x-python",
   "name": "python",
   "nbconvert_exporter": "python",
   "pygments_lexer": "ipython3",
   "version": "3.9.18"
  }
 },
 "nbformat": 4,
 "nbformat_minor": 2
}
