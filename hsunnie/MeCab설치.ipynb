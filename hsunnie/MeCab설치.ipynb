{
 "cells": [
  {
   "cell_type": "markdown",
   "metadata": {},
   "source": [
    "# MeCab 설치 과정\n",
    "1. 아나콘다 프롬프트에서 <span style='color:#ffd33d'> conda create -n {가상환경이름} python={파이썬버전} </span> 실행하여 가상환경 만들기\n",
    "2. C 드라이브에 mecab 폴더 생성\n",
    "3. mecab-ko-msvc 다운로드 -> C 드라이브의 mecab 폴더에서 압축 풀기\n",
    "4. mecab-ko-dic-msvc 다운로드 -> C 드라이브의 mecab 폴더에서 압축 풀기\n",
    "5. mecab-python-msvc (Python wheel) 다운로드 -> <span style='color:#ffd33d'>C:\\Users\\{사용자}\\anaconda3\\envs\\{가상환경이름}\\Lib\\site-packages</span> 폴더로 이동\n",
    "6. 아나콘다 프롬프트에서 <span style='color:#ffd33d'>C:\\Users\\{사용자}\\anaconda3\\envs\\{가상환경이름}\\Lib\\site-packages</span> 까지 들어간 후, <span style='color:red'>pip install {whl파일명}</span>\n",
    "7. MeCab 확인 코드 실행 (아래)"
   ]
  },
  {
   "cell_type": "markdown",
   "metadata": {},
   "source": [
    "# KoNLPy 설치 과정\n",
    "1. Java SE Development Kit (JDK) 설치\n",
    "2. Konlpy 설치 <span style='color:red'>!pip install konlpy==0.5.2</span> -> kernel restart\n",
    "3. Tweepy downgrade <span style='color:red'># !pip install tweepy==3.10.0</span> -> kernel restart\n",
    "4. JPypel 설치를 위한 파일 다운로드(python 3.8버전인 경우 JPype1-1.2.0-cp38-cp38-win_amd64.whl) -> <span style='color:red'>!pip install JPype1-1.2.0-cp38-cp38-win_amd64.whl</span> -> kernel restart\n",
    "    * 파일 위치는 해당 주피터 파일과 동일해야 작동함\n",
    "5. Konlpy 확인 코드 실행 (아래)"
   ]
  },
  {
   "cell_type": "code",
   "execution_count": null,
   "metadata": {},
   "outputs": [],
   "source": [
    "# !pip install konlpy==0.5.2"
   ]
  },
  {
   "cell_type": "code",
   "execution_count": null,
   "metadata": {},
   "outputs": [],
   "source": [
    "# !pip install tweepy==3.10.0"
   ]
  },
  {
   "cell_type": "code",
   "execution_count": null,
   "metadata": {},
   "outputs": [],
   "source": [
    "# !pip install JPype1-1.4.0-cp39-cp39-win_amd64.whl"
   ]
  },
  {
   "cell_type": "code",
   "execution_count": 10,
   "metadata": {},
   "outputs": [
    {
     "name": "stdout",
     "output_type": "stream",
     "text": [
      "설치\tNNG,행위,F,설치,*,*,*,*\n",
      "성공\tNNG,행위,T,성공,*,*,*,*\n",
      "EOS\n",
      "\n"
     ]
    }
   ],
   "source": [
    "import MeCab\n",
    "mecab = MeCab.Tagger()\n",
    "out = mecab.parse(\"설치 성공\")\n",
    "print(out)"
   ]
  },
  {
   "cell_type": "code",
   "execution_count": 8,
   "metadata": {},
   "outputs": [
    {
     "data": {
      "text/plain": [
       "<konlpy.tag._mecab.Mecab at 0x1dbea704820>"
      ]
     },
     "execution_count": 8,
     "metadata": {},
     "output_type": "execute_result"
    }
   ],
   "source": [
    "from konlpy.tag import Mecab\n",
    "Mecab(dicpath=\"C:\\mecab\\mecab-ko-dic\")"
   ]
  }
 ],
 "metadata": {
  "kernelspec": {
   "display_name": "mecab",
   "language": "python",
   "name": "python3"
  },
  "language_info": {
   "codemirror_mode": {
    "name": "ipython",
    "version": 3
   },
   "file_extension": ".py",
   "mimetype": "text/x-python",
   "name": "python",
   "nbconvert_exporter": "python",
   "pygments_lexer": "ipython3",
   "version": "3.9.18"
  }
 },
 "nbformat": 4,
 "nbformat_minor": 2
}
