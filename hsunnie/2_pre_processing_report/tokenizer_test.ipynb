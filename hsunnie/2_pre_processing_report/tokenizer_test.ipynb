{
 "cells": [
  {
   "cell_type": "code",
   "execution_count": null,
   "id": "b73c2e76",
   "metadata": {},
   "outputs": [],
   "source": [
    "# pip install fitz\n",
    "# pip install PyMuPDF\n",
    "# pip install kss"
   ]
  },
  {
   "cell_type": "code",
   "execution_count": 3,
   "id": "8c82c4b8",
   "metadata": {},
   "outputs": [
    {
     "name": "stdout",
     "output_type": "stream",
     "text": [
      "현재경로 : c:\\Users\\SDA05\\Desktop\\work\\BOK_project_TEAM2\\hsunnie\\pre_processing_report\n",
      "상위경로 : c:\\Users\\SDA05\\Desktop\\work\\BOK_project_TEAM2\\hsunnie\n",
      "크롤링데이터 경로 : c:\\Users\\SDA05\\Desktop\\work\\BOK_project_TEAM2\\hsunnie\\crawl_report\\\n"
     ]
    }
   ],
   "source": [
    "import os\n",
    "present_dir = os.getcwd()\n",
    "parent_dir = os.path.dirname(present_dir)\n",
    "lawdata_dir = parent_dir + '\\\\crawl_report\\\\'\n",
    "print('현재경로 :', present_dir)\n",
    "print('상위경로 :', parent_dir)\n",
    "print('크롤링데이터 경로 :', lawdata_dir)"
   ]
  },
  {
   "cell_type": "code",
   "execution_count": 5,
   "id": "cb79fb0b",
   "metadata": {},
   "outputs": [],
   "source": [
    "import os\n",
    "import fitz\n",
    "import pandas as pd\n",
    "import kss\n",
    "from ekonlpy.tag import Mecab\n",
    "\n",
    "def txt2filtered(text):\n",
    "    tokenizer = Mecab()\n",
    "    tokens = tokenizer.pos(text)\n",
    "    filtered_tokens = [token[0] for token in tokens if token[1] in ['NNG', 'VA', 'VAX', 'MAG', 'VA']]\n",
    "    return filtered_tokens\n",
    "\n",
    "df = pd.read_csv(lawdata_dir+\"pdf_link_crawl_add_txt.csv\", sep='\\t')\n",
    "pdf_dir = lawdata_dir + 'reportpdf/'\n",
    "txt_dir = './reporttxt_token/'\n",
    "if not os.path.exists(txt_dir):\n",
    "    os.makedirs(txt_dir)\n",
    "\n",
    "for i in range(len(df)):\n",
    "    df_info_list = df.iloc[i].to_list()\n",
    "    pdf_name = pdf_dir + df_info_list[3]\n",
    "    txt_name = txt_dir + df_info_list[4]#.replace('.pdf', '.txt')\n",
    "    \n",
    "    # 파일이 이미 존재하는 경우에는 생성하지 않음\n",
    "    if not os.path.exists(txt_name):\n",
    "        with fitz.open(pdf_name) as doc:\n",
    "            all_filtered_sentences = []\n",
    "            for page in doc:\n",
    "                content = page.get_text()\n",
    "                sentences = kss.split_sentences(content)\n",
    "                for sentence in sentences:\n",
    "                    filtered_tokens = txt2filtered(sentence)\n",
    "                    if filtered_tokens:\n",
    "                        all_filtered_sentences.append(filtered_tokens)\n",
    "                        \n",
    "            with open(txt_name, 'w', encoding='utf-8') as f:\n",
    "                f.write(str(all_filtered_sentences))\n"
   ]
  }
 ],
 "metadata": {
  "kernelspec": {
   "display_name": "Python 3",
   "language": "python",
   "name": "python3"
  },
  "language_info": {
   "codemirror_mode": {
    "name": "ipython",
    "version": 3
   },
   "file_extension": ".py",
   "mimetype": "text/x-python",
   "name": "python",
   "nbconvert_exporter": "python",
   "pygments_lexer": "ipython3",
   "version": "3.9.18"
  }
 },
 "nbformat": 4,
 "nbformat_minor": 5
}
