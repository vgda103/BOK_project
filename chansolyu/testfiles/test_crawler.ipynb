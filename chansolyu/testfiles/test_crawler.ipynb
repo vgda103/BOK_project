{
 "cells": [
  {
   "cell_type": "code",
   "execution_count": 21,
   "metadata": {},
   "outputs": [],
   "source": [
    "from konlpy.tag import Mecab\n",
    "mecab = Mecab(dicpath=r\"C:\\mecab\\mecab-ko-dic\")"
   ]
  },
  {
   "cell_type": "code",
   "execution_count": 22,
   "metadata": {},
   "outputs": [
    {
     "data": {
      "text/plain": [
       "['개', '빡', '치', '는', '메', '캅']"
      ]
     },
     "execution_count": 22,
     "metadata": {},
     "output_type": "execute_result"
    }
   ],
   "source": [
    "mecab.morphs(\"개빡치는메캅\")"
   ]
  },
  {
   "cell_type": "code",
   "execution_count": null,
   "metadata": {},
   "outputs": [],
   "source": [
    "# monetary policy decisions (MPDt) \n",
    "# output gap ( yt - yt*) -> industrial production - its trend from Hodrick-Prescott filter\n",
    "# CPI (phi) -> 미국 소비자물가지수\n",
    "# stock market index -> KOSPI\n",
    "# 실제 한국은행 기준금리\n",
    "# exchange rate\n",
    "# EPU us / EPU kor"
   ]
  },
  {
   "cell_type": "code",
   "execution_count": null,
   "metadata": {},
   "outputs": [],
   "source": [
    "# Yt is the monthly industrial prodution index\n",
    "\n"
   ]
  },
  {
   "cell_type": "code",
   "execution_count": 201,
   "metadata": {},
   "outputs": [],
   "source": [
    "# 일일 기준금리\n",
    "\n",
    "from datetime import datetime\n",
    "import requests\n",
    "from bs4 import BeautifulSoup\n",
    "import pandas as pd\n",
    "\n",
    "OldDate = '20210101'\n",
    "today = datetime.now()\n",
    "NowDate = today.strftime('%Y%m%d')\n",
    "datas = []\n",
    "page_num = 1\n",
    "while True:\n",
    "    url = f'https://www.korcham.net/nCham/Service/EconBrief/appl/ProspectBoardList.asp?board_type=1&pageno={page_num}&daybt=OldNow&m_OldDate={OldDate}&m_NowDate={NowDate}'\n",
    "    res = requests.get(url)  \n",
    "    soup = BeautifulSoup(res.content.decode('euc-kr','replace'), 'html.parser')\n",
    "    if soup.select_one('table tr').text == ' * 등록된 데이터가 없습니다. ':\n",
    "        break\n",
    "    else:\n",
    "        table = soup.select('table tr')\n",
    "        headers = [th.text.strip() for th in soup.select('table tr th')]\n",
    "        page_datas = []\n",
    "        for row in table[1:]:\n",
    "            daily_data = []\n",
    "            daily_data.extend(td.text.strip() for td in row)\n",
    "            page_datas.append(daily_data)\n",
    "        datas.extend(page_datas)\n",
    "        page_num += 1\n",
    "\n",
    "\n",
    "\n",
    "daily_call_rate = pd.DataFrame(datas, columns=headers)\n",
    "daily_call_rate.to_csv('daily_call_rate.csv', index=False)"
   ]
  },
  {
   "cell_type": "code",
   "execution_count": 204,
   "metadata": {},
   "outputs": [],
   "source": [
    "# 일일 KOSPI/ KOSDAQ 지수\n",
    "\n",
    "from datetime import datetime\n",
    "import requests\n",
    "from bs4 import BeautifulSoup\n",
    "import pandas as pd\n",
    "\n",
    "OldDate = '20210101'\n",
    "today = datetime.now()\n",
    "NowDate = today.strftime('%Y%m%d')\n",
    "datas = []\n",
    "page_num = 1\n",
    "while True:\n",
    "    url = f'https://www.korcham.net/nCham/Service/EconBrief/appl/ProspectBoardList.asp?board_type=3&pageno={page_num}&daybt=OldNow&m_OldDate={OldDate}&m_NowDate={NowDate}'\n",
    "    res = requests.get(url)  \n",
    "    soup = BeautifulSoup(res.content.decode('euc-kr','replace'), 'html.parser')\n",
    "    if soup.select_one('table tr').text == ' * 등록된 데이터가 없습니다. ':\n",
    "        break\n",
    "    else:\n",
    "        table = soup.select('table tr')\n",
    "        headers = [th.text.strip() for th in soup.select('table tr th')]\n",
    "        page_datas = []\n",
    "        for row in table[1:]:\n",
    "            daily_data = []\n",
    "            daily_data.extend(td.text.strip() for td in row)\n",
    "            page_datas.append(daily_data)\n",
    "        datas.extend(page_datas)\n",
    "        page_num += 1\n",
    "\n",
    "\n",
    "\n",
    "daily_stock_market_idx = pd.DataFrame(datas, columns=headers)\n",
    "daily_stock_market_idx.to_csv('daily_stock_market_idx.csv', index=False)"
   ]
  },
  {
   "cell_type": "code",
   "execution_count": 20,
   "metadata": {},
   "outputs": [
    {
     "data": {
      "text/plain": [
       "[]"
      ]
     },
     "execution_count": 20,
     "metadata": {},
     "output_type": "execute_result"
    }
   ],
   "source": [
    "# 월별 CPI\n",
    "from datetime import datetime\n",
    "import requests\n",
    "from bs4 import BeautifulSoup\n",
    "import pandas as pd\n",
    "\n",
    "OldDate = '2020-01'\n",
    "NowDate = datetime.now().strftime('%Y-%m')\n",
    "\n",
    "url = f'https://data-explorer.oecd.org/vis?fs[0]=Topic%2C1%7CEconomy%23ECO%23%7CPrices%23ECO_PRI%23&fs[1]=Measure%2C0%7CConsumer%20price%20index%23CPI%23&fs[2]=Reference%20area%2C0%7CKorea%23KOR%23&pg=0&snb=6&vw=tb&df[ds]=dsDisseminateFinalDMZ&df[id]=DSD_PRICES%40DF_PRICES_ALL&df[ag]=OECD.SDD.TPS&df[vs]=1.0&pd={OldDate}%2C{NowDate}&dq=KOR.M.N.CPI.PA._T.N.&ly[cl]=TIME_PERIOD&to[TIME_PERIOD]=false'\n",
    "res = requests.get(url)\n",
    "soup = BeautifulSoup(res.text, 'html.parser')\n",
    "soup.select('.MuiTableBody-root')"
   ]
  },
  {
   "cell_type": "code",
   "execution_count": null,
   "metadata": {},
   "outputs": [],
   "source": [
    "from datetime import datetime\n",
    "import requests\n",
    "from bs4 import BeautifulSoup\n",
    "import pandas as pd\n",
    "\n",
    "OldDate = '2020-01'\n",
    "NowDate = datetime.now().strftime('%Y-%m')\n",
    "\n",
    "url = 'https://kosis.kr/statHtml/statHtml.do?orgId=101&tblId=DT_1J22003&conn_path=i3'\n",
    "res = requests.get(url)\n",
    "soup = BeautifulSoup(res.text, 'html.parser')\n",
    "soup.select('.MuiTableBody-root')"
   ]
  }
 ],
 "metadata": {
  "kernelspec": {
   "display_name": "BOKproject",
   "language": "python",
   "name": "python3"
  },
  "language_info": {
   "codemirror_mode": {
    "name": "ipython",
    "version": 3
   },
   "file_extension": ".py",
   "mimetype": "text/x-python",
   "name": "python",
   "nbconvert_exporter": "python",
   "pygments_lexer": "ipython3",
   "version": "3.9.0"
  }
 },
 "nbformat": 4,
 "nbformat_minor": 2
}
